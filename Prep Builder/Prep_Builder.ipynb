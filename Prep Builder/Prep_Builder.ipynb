{
 "cells": [
  {
   "cell_type": "markdown",
   "metadata": {
    "collapsed": true,
    "pycharm": {
     "name": "#%% md\n"
    }
   },
   "source": [
    "# Introducing Tableau Prep Builder\n",
    "* Have you ever been deep in analysis and then realized that your data is \"dirty\" with inconsistencies and needs to be cleaned before you can continue?\n",
    "* Or are you trying to publish data for other and want to reshape it first so it will be easier for others to analyze?\n",
    "\n",
    "Tableau Prep Builder is a visual data preparation tool you can use to clean and prepare data for these situations and more. This module\n",
    "describes Tableau Prep Builder, explains why you'd use it and how to best use ist with other Tableau products.\n",
    "\n",
    "**Objectives**\n",
    "At the end of this module, you will be able to:\n",
    "* Define and describe the purpose of data preparation\n",
    "* Describe how data perparation fits into the analytic process\n",
    "* Identify the major benefits of Tableau Prep Builder\n",
    "* Describe how Tableau Prep Builder is integrated with other Tableau products\n",
    "* Summerize when to use Tableau Prep Builder as opposed to Tableau Desktop\n",
    "* Identify some common roles/personas who would use Tableau Prep Builder\n",
    "* Describe examples of how Tableau Prep Builder is used by people in these roles\n",
    "* Describe typical scenarios where you could use Tableau Prep Builder\n",
    "\n",
    "\n",
    "## Iterative and non-linear\n",
    "The analytics cycle is not a linear progression from one stage to the next. It may occasionally work that way, but in\n",
    "general the process is iterative. You can jump back and forth among the stages in the cycle. For example, your\n",
    "exploration of the initial question may lead to follow-up questions, and your exploration of the data may lead you to other liens of questioning\n",
    "within the same data set"
   ]
  },
  {
   "cell_type": "markdown",
   "source": [
    "# The Data Preparation Process\n",
    "Get an example of when to use three main process steps\n",
    "\n",
    "## Connecting to Data\n",
    "\n",
    "## Cleaning the Data\n",
    "Examine and edit data values and save the flow\n",
    "\n",
    "## Outputting the Cleaned Data\n",
    "Add an output step to a flow and use it to create an output file\n",
    "\n",
    "## Using the Output File as a Data Source\n",
    "Connect to the output file and build a viz with the cleaned data"
   ],
   "metadata": {
    "collapsed": false,
    "pycharm": {
     "name": "#%% md\n"
    }
   }
  },
  {
   "cell_type": "markdown",
   "source": [
    "# Connecting to and Configuring Data\n",
    "To use Tableau Prep Builder to clean and prepare your data, you first create a flow by connecting to your data. Tableau Prep Builder\n",
    "supports connections to numerous popular data types such as text and Microsoft Excel files, Microsoft SQL Server and Google BigQuery based\n",
    "databases, Tableau data exctracts and Tableau published data sources. In this module you'll learn how to connect to your data and then configure \n",
    "the connection to maximize flow performance\n",
    "\n"
   ],
   "metadata": {
    "collapsed": false,
    "pycharm": {
     "name": "#%% md\n"
    }
   }
  }
 ],
 "metadata": {
  "kernelspec": {
   "display_name": "Python 3",
   "language": "python",
   "name": "python3"
  },
  "language_info": {
   "codemirror_mode": {
    "name": "ipython",
    "version": 2
   },
   "file_extension": ".py",
   "mimetype": "text/x-python",
   "name": "python",
   "nbconvert_exporter": "python",
   "pygments_lexer": "ipython2",
   "version": "2.7.6"
  }
 },
 "nbformat": 4,
 "nbformat_minor": 0
}