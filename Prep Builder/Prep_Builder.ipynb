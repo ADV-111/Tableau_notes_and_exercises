{
 "cells": [
  {
   "cell_type": "markdown",
   "metadata": {
    "collapsed": true,
    "pycharm": {
     "name": "#%% md\n"
    }
   },
   "source": [
    "# Introducing Tableau Prep Builder\n",
    "* Have you ever been deep in analysis and then realized that your data is \"dirty\" with inconsistencies and needs to be cleaned before you can continue?\n",
    "* Or are you trying to publish data for other and want to reshape it first so it will be easier for others to analyze?\n",
    "\n",
    "Tableau Prep Builder is a visual data preparation tool you can use to clean and prepare data for these situations and more. This module\n",
    "describes Tableau Prep Builder, explains why you'd use it and how to best use ist with other Tableau products.\n",
    "\n",
    "**Objectives**\n",
    "At the end of this module, you will be able to:\n",
    "* Define and describe the purpose of data preparation\n",
    "* Describe how data perparation fits into the analytic process\n",
    "* Identify the major benefits of Tableau Prep Builder\n",
    "* Describe how Tableau Prep Builder is integrated with other Tableau products\n",
    "* Summerize when to use Tableau Prep Builder as opposed to Tableau Desktop\n",
    "* Identify some common roles/personas who would use Tableau Prep Builder\n",
    "* Describe examples of how Tableau Prep Builder is used by people in these roles\n",
    "* Describe typical scenarios where you could use Tableau Prep Builder\n",
    "\n",
    "\n",
    "## Iterative and non-linear\n",
    "The analytics cycle is not a linear progression from one stage to the next. It may occasionally work that way, but in\n",
    "general the process is iterative. You can jump back and forth among the stages in the cycle. For example, your\n",
    "exploration of the initial question may lead to follow-up questions, and your exploration of the data may lead you to other liens of questioning\n",
    "within the same data set"
   ]
  },
  {
   "cell_type": "markdown",
   "source": [
    "# The Data Preparation Process\n",
    "Get an example of when to use three main process steps\n",
    "\n",
    "## Connecting to Data\n",
    "\n",
    "## Cleaning the Data\n",
    "Examine and edit data values and save the flow\n",
    "\n",
    "## Outputting the Cleaned Data\n",
    "Add an output step to a flow and use it to create an output file\n",
    "\n",
    "## Using the Output File as a Data Source\n",
    "Connect to the output file and build a viz with the cleaned data"
   ],
   "metadata": {
    "collapsed": false,
    "pycharm": {
     "name": "#%% md\n"
    }
   }
  },
  {
   "cell_type": "markdown",
   "source": [
    "# Connecting to and Configuring Data\n",
    "To use Tableau Prep Builder to clean and prepare your data, you first create a flow by connecting to your data. Tableau Prep Builder\n",
    "supports connections to numerous popular data types such as text and Microsoft Excel files, Microsoft SQL Server and Google BigQuery based\n",
    "databases, Tableau data exctracts and Tableau published data sources. In this module you'll learn how to connect to your data and then configure\n",
    "the connection to maximize flow performance\n",
    "\n",
    "## Tableau published data sources\n",
    "Starting with version 2019.3 Tableau Prep Builder can connect to data sources published to Tableau Server and Tableau Online\n",
    "The Data Management add-on a separate license must be enabled on Tableau Server and Tableau Online\n",
    "\n",
    "You connect to Tableau published data sources using Tableau Server connector, enabling you to use them as input data\n",
    "sources for your flows. Using data sources on your oragnization's Tableau Server and Tableau Online helps to ensure you're\n",
    "using data sources tha tare secure, standardized and centrally managed by your organization, such as by data sterwards or\n",
    "database administrators\n",
    "\n",
    "## Run an Initial SQL command when connecting to a data source\n",
    "You can use Initial SQL to query your connections using Tableau Prerp Builder version 2019.2.2 and later. This enables you to\n",
    "specify an Initial SQL command to run when connecting to databases that support it.\n",
    "\n",
    "For example, you can enter a SQL statement to apply a filter when connecting to the database. Tableau Prep Builder applies the SQL\n",
    "command before it samples the data, reducing the size of the data set loaded into Tableau Prep Builder, therby increasing\n",
    "performance.\n",
    "\n",
    "You can also include parameters to pass data such as application name, version, and flow name. This helps you keep track of\n",
    "the data when you query your data source using Tableau Prep Builder version 2020.1.3 and greater\n",
    "\n",
    "## Use the Data Interpreter on Excel files\n",
    "You can use the Data Interpreter in Tableau Prep Builder on Microsoft Excel files that contain specific types of formatting\n",
    "such as merged cells, empty columns or rows and sub-tables, that are problematic for clean data input.\n",
    "\n",
    "Data Interpreter detects these types of formatting and handles them correctly, which helps you start your flows with cleaner data in the\n",
    "input steps, making it easier to complete them. Following is an Excel file with some of this formatting\n",
    "\n",
    "* Field Names\n",
    "* Merged Cells\n",
    "\n",
    "## Explore data input options\n",
    "When you select an Input step in the Flow pane, such as **Navy** in the following image, you can configure what data from the step is\n",
    "brought into the flow using the metadata profile and options in the **Input** pane.\n",
    "\n",
    "For example, you may not need all of the fields from a table in the output of your flow. Working with a smaller amount of data\n",
    "will make it easier to work with and improve the peroformance of a flow. You also may want to change some of the field names\n",
    "so they better describe the values in the fields.\n"
   ],
   "metadata": {
    "collapsed": false,
    "pycharm": {
     "name": "#%% md\n"
    }
   }
  },
  {
   "cell_type": "markdown",
   "source": [
    "# Using the Profile Pane to Examine Data\n",
    "Explore the data structure and study field values\n",
    "\n",
    "## Diving deeper: Distributions and Highlighting\n",
    "Study distributions and highlight values to uncover data issues\n",
    "\n",
    "## Diving Deeper: Searching and Sorting\n",
    "Use search and sort options to investigate anomalies and uncover patterns\n"
   ],
   "metadata": {
    "collapsed": false,
    "pycharm": {
     "name": "#%% md\n"
    }
   }
  },
  {
   "cell_type": "markdown",
   "source": [
    "# Cleaning Data with One-Click Operations\n",
    "Let's say you've examined your data in Prep Builder, using techniques such as studying data distributions to find data\n",
    "issues. Now that you've found issues, you're ready to start cleaning data.\n",
    "\n",
    "You may wonder that options Tableau Prep Builder offers to clean specific data issues. For example:\n",
    "* Do you have a field that is not relevant to your analysis that you would like to remove?\n",
    "* Would you like to rename a field so it makes sense within the context of your department?\n",
    "* Do you have field values that can be split up to improve analysis?\n",
    "* Do filed values have data inconsistencies such as extra spaces or punctuation, that you need to clean?\n",
    "* How do you keep track of all the data cleaning changes that you make?\n",
    "\n",
    "Tableau Prep Builder provides many one-click operations, including fixes for common field value inconsistencies that help\n",
    "you address issues such as these. It records all cleaning operations so you can keep track of changes you're making to the data.\n",
    "\n",
    "By cleaning up data issues, you make the data easier to work with and analyze. This also benefits others with whom you share data sets.\n",
    "\n",
    "## Applying cleaning operations to fields\n",
    "When examining your data using techniques such as exploring data distribution and data composition, you have likely uncovered cleaning\n",
    "issues that will need to be addressed. You can apply cleaning operations to fields and their values to analyze the data.\n",
    "\n",
    "In this lesson we will take a look at the following cleaning operations:\n",
    "* Splitting field valeus: automatic and custom\n",
    "* Removing fields\n",
    "* Duplicating fields\n",
    "* Renaming fields\n",
    "* Keep Only fields\n",
    "* Changing data types\n",
    "\n",
    "## Performing quick cleaning string operations\n",
    "Values stored in string fields often contain data inconsistenices that can affect your visualizations. Extra spaces, capitalization\n",
    "and punctuation are a few examples that can cause duplication in your data. Tableau Prep Builder provides one-click string cleaning\n",
    "operations, so you can clean theses issues up quickly\n",
    "\n",
    "### Clean mane operations\n",
    "## Review recorded changes\n",
    "Every cleaning operation that you apply in Tableau Prep Builder is recorded in the Changes pane, to the left of the profile pane.\n",
    "\n",
    "\n"
   ],
   "metadata": {
    "collapsed": false,
    "pycharm": {
     "name": "#%% md\n"
    }
   }
  },
  {
   "cell_type": "markdown",
   "source": [
    "# Validating Your Data\n",
    "What does it mean to validate your data? Imaginee that you have a data set and you want to know if it will answer your\n",
    "analytic questions. Data validation will tell you.\n",
    "\n",
    "Or, say that you have performed data preparation operations on that data, and you want to verify the success of those changes as well\n",
    "as to investigate the results. Tha is also data validation.\n",
    "\n",
    "Next you may wonder how to validate your data. For example:\n",
    "* How do you incorporate data validation into an interactive analytic process?\n",
    "* How do you use Tableau Prep Builder to verify operations applied during your data preparation?\n",
    "* How can you compare your data in Tableau Desktop before and after applying changes?\n",
    "* Now that you've applied chnages to your data, how can you see if it's possible to create meaningful visualizations with it in\n",
    "Tableau Desktop?\n",
    "\n",
    "This module will demonstrate how to use Tableau Prep Builder to validate that your data meets your needs, as well as to\n",
    "validate that the results are as you intended\n",
    "\n",
    "## Use the data grid to support data validation\n",
    "Validating your data is a necessary part of the iterative analytic process because it allows you to see\n",
    "if you have the needed fields to complete your analysis. It also allows you to verify that your data preparation operations\n",
    "have been successfully applied.\n",
    "\n",
    "You'll use the data grid to perform theses validation tasks as we take a look at some flight data to which some cleaning operations\n",
    "have already been applied.\n",
    "\n",
    "## Preview in Desktop to support data validation\n",
    "Another way to validate your data is to preview it in Tableau Desktop. You can do this directly within Tableau Prep Builder.\n",
    "When you select a point in your flow to preview in Tableau Desktop, the data preview will reflect all operations you applied\n",
    "to the data up to and including that point your data preparation.\n",
    "\n",
    "## Try it! Preview your data\n",
    "Now is your opportunity to apply what you've learned about how to validate your data by previewing it in Tableau Desktop.\n",
    "The guided activity below will prompt you to take specific actions and will provide feedback and guidance along the way.\n"
   ],
   "metadata": {
    "collapsed": false,
    "pycharm": {
     "name": "#%% md\n"
    }
   }
  }
 ],
 "metadata": {
  "kernelspec": {
   "display_name": "Python 3",
   "language": "python",
   "name": "python3"
  },
  "language_info": {
   "codemirror_mode": {
    "name": "ipython",
    "version": 2
   },
   "file_extension": ".py",
   "mimetype": "text/x-python",
   "name": "python",
   "nbconvert_exporter": "python",
   "pygments_lexer": "ipython2",
   "version": "2.7.6"
  }
 },
 "nbformat": 4,
 "nbformat_minor": 0
}