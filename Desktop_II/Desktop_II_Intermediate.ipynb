{
 "cells": [
  {
   "cell_type": "markdown",
   "metadata": {
    "collapsed": true,
    "pycharm": {
     "name": "#%% md\n"
    }
   },
   "source": [
    "# Desktop II Description and Learning Objectives\n",
    "**Audience**\n",
    "\n",
    "This course is designed to provide you with the skills required to become a Tableau Power User.\n",
    "It's made for the proffesional who has solid working experience with Tableau Desktop and want to take it ot the next level.\n",
    "You should have a deep understanding of all the fundamental concepts of building worksheets and dashboards, but may scratch\n",
    "your head when working with more complex issues.\n",
    "\n",
    "**Duration**\n",
    "\n",
    "This course is comprised of over 50 lessons. We recommend that students plan to spend 10+ hours completing this course.\n",
    "The actual amount of time needed will vary depending on prior experience and background.\n",
    "\n",
    "**Prerequisites**\n",
    "\n",
    "Desktop I and / or equivalent experience\n",
    "\n",
    "**Learning Objectives**\n",
    "\n",
    "At the end of this course, you will be able to:\n",
    "* Build advanced chart types and visualizations\n",
    "* Build complex calculations to manipulate your data\n",
    "* Use statistical techniques to analyze your data\n",
    "* Use parameters and input controls to give users control over specific values\n",
    "* Implement advanced geographic mapping techniques and use custom images and geocoding\n",
    "to build spatial visualizations of non-geographic data.\n",
    "* Combine data from multiple tables using joins\n",
    "* Combine data sources using data blending.\n",
    "* Use extracts to improve performance\n",
    "* Build better dashboards using techniques for guided analytics, interactive dashboard design,\n",
    "and visual best practices\n",
    "\n",
    "\n"
   ]
  },
  {
   "cell_type": "markdown",
   "source": [
    "# Working with a Data Extract\n",
    "A live data connection may not be an option. Maybe you're travelling or the connection is slowing down workbook\n",
    "performance. Discover the power of data extracts. Use a data extract to improve workbook speed, streamline data in the view\n",
    "and add portability to a workbook. Learn to create an extract, select options, switch between extracted and live data,\n",
    "and update an extract\n",
    "\n",
    "## Deciding When to Use an Extract\n",
    "Explore your choices when using an extract\n",
    "\n",
    "## Extracting Data\n",
    "Create, edit and update a data extract\n",
    "\n",
    "## Create a Data Extract - exercise"
   ],
   "metadata": {
    "collapsed": false,
    "pycharm": {
     "name": "#%% md\n"
    }
   }
  },
  {
   "cell_type": "markdown",
   "source": [
    "# Joining Tables Using Calculations - NEW WAY OF DOING THAT IN VER. 2020.2\n",
    "What if your required data sits in more than one table in your data source? Bring all your desired data into a view by joining tables from your data source. Learn how to join tables, what join types are available, and how each type affects the data.\n",
    "\n",
    "## Using Table Joins\n",
    "Create a data source using multiple tables of data\n",
    "\n",
    "## How to Join Tables\n",
    "Use different join types and see their effect"
   ],
   "metadata": {
    "collapsed": false,
    "pycharm": {
     "name": "#%% md\n"
    }
   }
  },
  {
   "cell_type": "markdown",
   "source": [
    "# Joining Tables Using Calculations\n",
    "Sometimes you need to join tables to build a data source, but there isn't a field that matches in both tables\n",
    "to build the join from. With join calculations, you can calculate a valeu that can make the join.\n",
    "Whether you are adjusting the text in a string, changing the data type or just making sure yor have\n",
    "a perfect match between fields, writing join calculations gives you more flexibility to structure your data source\n",
    "\n",
    "## Writing Join Calculations\n",
    "Create a calculation that you can use to join data tables\n",
    "\n"
   ],
   "metadata": {
    "collapsed": false,
    "pycharm": {
     "name": "#%% md\n"
    }
   }
  },
  {
   "cell_type": "markdown",
   "source": [
    "# Blending Multiple Data Sources\n",
    "Frequently, the data you need isn't stored in a single data source. Yet, you still need to create an analysis\n",
    "from these separate sources. Expand your data analysis by using multiple data sources in a single view and blending\n",
    "them together on a common dimension. Discover how this differs from joining tables. Build blended views and compare results\n",
    "depending on which data source is primary.\n",
    "\n",
    "## Using Data from Multiple Sources\n",
    "Discover data blending and how it differs from table joins\n",
    "\n",
    "## Blending Data in a View\n",
    "Blend primary and secondary data sources\n",
    "\n"
   ],
   "metadata": {
    "collapsed": false,
    "pycharm": {
     "name": "#%% md\n"
    }
   }
  },
  {
   "cell_type": "markdown",
   "source": [
    "# Blending Data without a Common Field\n",
    "What do you do when you want to blend two data sources and they have a field in common, but\n",
    "the dimensions don't use the same naming convention? Create a custom relationship between the data\n",
    "sources. Learn how to edit aliases within the data sources, and use calculations to help you\n",
    "handle nulls and asterisks in data results\n",
    "\n",
    "## Blending with Custom Relationships and Calculations\n",
    "Blend data sources without a common field and use blended fields in calculations\n"
   ],
   "metadata": {
    "collapsed": false,
    "pycharm": {
     "name": "#%% md\n"
    }
   }
  },
  {
   "cell_type": "markdown",
   "source": [
    "# Using Unions to Combine Data\n",
    "Unions combine your data by lengthening the tables, which allows you to build longer, more robust data sources.\n",
    "Create and edit data unions to combine tables with the same structure, like weather tables for each month, or sales data for each\n",
    "branch. Even if the field titles don't match perfectly, you can correct mismatched fields. Unions provide another way\n",
    "to customize your data source before you start analysis.\n",
    "\n",
    "## Appending Row Data with Unions\n",
    "Explore unions and their structures\n",
    "\n",
    "## Create a Union Manually\n",
    "Union multiple data sheets of an Excel file"
   ],
   "metadata": {
    "collapsed": false,
    "pycharm": {
     "name": "#%% md\n"
    }
   }
  },
  {
   "cell_type": "markdown",
   "source": [
    "# Filtering Across Data Sources\n",
    "You have a dashboard that uses data from more than one data source. How can you apply a filter that\n",
    "will work for all views in the dashboard? See how to verify or create a relationship between the\n",
    "data sources. Then lear a couple of ways to create a filter that applies to the related data\n",
    "\n",
    "## Filtering Across Data Sources\n",
    "Apply a filter to all related data sources in a dashboard"
   ],
   "metadata": {
    "collapsed": false,
    "pycharm": {
     "name": "#%% md\n"
    }
   }
  },
  {
   "cell_type": "markdown",
   "source": [
    "# Using Sets to Highlight Data\n",
    "Sets allow you to examine activity in your data that may not be obvious. Use sets to highlight parts of your data for more focus.\n",
    "Create a set from the data pane or by selecting marks in the view. Use a set as a filter or combine sets and re-use sets as needed\n",
    "\n",
    "## Creating Sets - VERY POWERFUL\n",
    "Create top, combined and in/out sets"
   ],
   "metadata": {
    "collapsed": false,
    "pycharm": {
     "name": "#%% md\n"
    }
   }
  },
  {
   "cell_type": "markdown",
   "source": [
    "# Using Context Filters to Limit Scope\n",
    "Use a context filter when you want to specify a context for another filter in your view, such as a Top N filter. For example,\n",
    "you could use Region as a context filter to see the top-10 selling product per region rather than across\n",
    "a whole data source. Context filters can help improve performance, too by limiting the scope of a query to\n",
    "the specified context.\n",
    "\n",
    "## Adding a Context Filter\n",
    "Set the filtering context for additional filters in the view\n"
   ],
   "metadata": {
    "collapsed": false,
    "pycharm": {
     "name": "#%% md\n"
    }
   }
  },
  {
   "cell_type": "markdown",
   "source": [
    "# Using Split and Custom Split\n",
    "Do you have single dimensions of data that you'd like to analyze as multiple dimensions instead? Control your data in Tableau\n",
    "by using splits to alter dimensions fields. For example break up a customer name into first and last name fields\n",
    "then use them in your view.\n",
    "\n",
    "## Splitting Data Fields\n",
    "Learn how to split dimension fields using Split and Custom Split\n"
   ],
   "metadata": {
    "collapsed": false,
    "pycharm": {
     "name": "#%% md\n"
    }
   }
  },
  {
   "cell_type": "markdown",
   "source": [
    "# Advanced Calculations: Aggregating Dimensions\n",
    "Aggregating measures is practically instinctive and often automatic, but some calculations or views can only be created\n",
    "by aggregating dimensions! Learn about MIN(), MAX(), COUNT(), COUNTD() and ATTR(), aggregatin types, and why\n",
    "you might need to use them.\n",
    "\n",
    "## Aggregating Dimensions\n",
    "Recognise the five aggregations that can be applied to dimensions\n",
    "\n",
    "## Aggregating Dimensions in Calculations\n",
    "\n"
   ],
   "metadata": {
    "collapsed": false,
    "pycharm": {
     "name": "#%% md\n"
    }
   }
  },
  {
   "cell_type": "markdown",
   "source": [
    "# Controlling Table Calculations\n",
    "Build table calculations with more custom control than quick table calculations callow. Create context-\n",
    "sensitive calculations tha add more layers of understanding to your data. Explore ways to customize\n",
    "the scope and direction of table calculations, and learn the best way to handle null values.\n",
    "Check out calculations like Percent of Total and Percent Difference From\n",
    "\n",
    "## Specifying Scope and Direction\n",
    "Use table calculation options to show percent of total\n",
    "\n",
    "Order which Filters are applied:\n",
    "1. Extract Filters\n",
    "2. Data Source Filters\n",
    "3. Context Filters\n",
    "4. Measure / Dimension Filters\n",
    "\n",
    "Table Calculation\n",
    "\n",
    "5. Table Calculation Filters\n",
    "\n",
    "## Controlling Scope and Direction"
   ],
   "metadata": {
    "collapsed": false,
    "pycharm": {
     "name": "#%% md\n"
    }
   }
  },
  {
   "cell_type": "markdown",
   "source": [
    "# Using Level of Detail Expressions\n",
    "When creating charts and crosstabs in Tableau, the view is gradually built by what you place on rows and columns. This\n",
    "placement determines the level of detail you're able to see in your worksheet view. This is a powerful tool, byt what if you wanted to use a dimension\n",
    "you haven't placed in the view? Level of detail expressions allow you to create calculations that exist at different\n",
    "levels of detail than what is shown in the view.\n",
    "\n",
    "## Exploring Level of Detail Expressions\n",
    "Create views that show data at multiple levels of detail\n",
    "\n",
    "## Writing Calculations Fixed to a Dimension\n",
    "Use a FIXED level of detail calculation to show average sales by product\n"
   ],
   "metadata": {
    "collapsed": false,
    "pycharm": {
     "name": "#%% md\n"
    }
   }
  },
  {
   "cell_type": "markdown",
   "source": [
    "# Filtering and LOD Expressions\n",
    "Do you need an LOD expression or a table calculation? If you're using a filter, this module will help you answer that\n",
    "question. Lear about how table calculations and LOD expressions differ in what data they process and when they process it.\n",
    "Apply this information as you build a filtered view that provides an accurate % of total no matter which filter options are selected\n",
    "\n",
    "## Using LOD Expressions with Filters\n",
    "Keep results accurate in a filtered percent of total\n",
    "\n",
    "## Controlling a Filter's Impact on Percent of Total\n",
    "Apply a filter to a percent of total calculation, both as a table calculation and LOD"
   ],
   "metadata": {
    "collapsed": false,
    "pycharm": {
     "name": "#%% md\n"
    }
   }
  },
  {
   "cell_type": "markdown",
   "source": [
    "# Using Parameters to Control Data in the View\n",
    "Empower your audience through parameters! A parameter allows users to adjust the view according to their needs. Learn\n",
    "the essential steps of making the parameter using it in the view though a filter or calculation, and creating audience interaction\n",
    "through a parameter control.\n",
    "\n",
    "## Using Parameters to Give Control\n",
    "Help users control the data in the view\n",
    "\n",
    "## Adding Parameters to a View\n",
    "Create a parameter for a calculation or a filter\n",
    "\n"
   ],
   "metadata": {
    "collapsed": false,
    "pycharm": {
     "name": "#%% md\n"
    }
   }
  },
  {
   "cell_type": "markdown",
   "source": [
    "# ParametersL: Swap Measures\n",
    "Does your audience demand a lot from a single view or dashboard? Lear how to use parameters to give them more! Add\n",
    "parameters to your visualizations to allow your users to choose the measure they want to display orr the aggregation type\n",
    "they need to see\n",
    "\n",
    "## Using Parameters to Swap Measures\n",
    "Enable users to switch measure data in the view"
   ],
   "metadata": {
    "collapsed": false,
    "pycharm": {
     "name": "#%% md\n"
    }
   }
  },
  {
   "cell_type": "markdown",
   "source": [
    "# Advanced Mapping: Modifying Locations\n",
    "Is ther a city not showin up on your map when it should be? Discover how to troubleshoot data that isn't mapping correctly.\n",
    "Edit the data to correct errors or ambiguity that could be causing problem or assign correct geographic locations.\n",
    "\n",
    "## Editing Location Data\n",
    "Resolve errors or assign locations\n",
    "\n",
    "## Add Location Data\n",
    "Add locations of regional distribution centers to a view\n",
    "\n"
   ],
   "metadata": {
    "collapsed": false,
    "pycharm": {
     "name": "#%% md\n"
    }
   }
  },
  {
   "cell_type": "markdown",
   "source": [
    "# Advanced Mapping: Customizing Tableau's Geocoding\n",
    "Mapping is a powerful tool in Tableau when your data is recognized as a geographic location. But what if your locations aren't\n",
    "being recognized? Use custom geocoding to map street addresses or other user-defined locations in a view. Bonus: Get tips on using batch\n",
    "geocoding to get latitude and longitude data.\n",
    "\n",
    "## Customizing Geocodes for Addresses\n",
    "Use custom geocoding and data blending to map addresses from different data sources\n",
    "geocoder sites - are sites which recognize the latitude and longitude by address"
   ],
   "metadata": {
    "collapsed": false,
    "pycharm": {
     "name": "#%% md\n"
    }
   }
  },
  {
   "cell_type": "markdown",
   "source": [
    "# Advanced Mapping: Using Background Image\n",
    "Map your data onto a custom image, map, or other background! Whether you are a video game developer ampping player activity in\n",
    "a simulated world or you're plotting user click patterns on the home page of a website, there is a way to see your data plotted onto a background\n",
    "image of your choosing. Learn how to add the image to your view and plot data as coordinates on the image.\n",
    "\n",
    "## Plotting Data on a Custom Background\n",
    "Map your data to a background image\n",
    "\n",
    "## Adding an Image and Plotting Data\n",
    "Use an image and X/Y coordinates to show locations on a map"
   ],
   "metadata": {
    "collapsed": false,
    "pycharm": {
     "name": "#%% md\n"
    }
   }
  },
  {
   "cell_type": "markdown",
   "source": [
    "# Viewing Distributions\n",
    "Seeing how your data is distributed can help you find places to dive deeper. Put data into bins and visualize them in a\n",
    "histogram. Lear how to buil a box and whisker plot to show distributions of data\n",
    "\n",
    "## Building Histograms\n",
    "Create bins to view measure data in specific ranges\n",
    "\n",
    "## Building Box and Whisker Plots\n",
    "Compare distributions and identify outliers\n",
    "\n",
    "\n"
   ],
   "metadata": {
    "collapsed": false,
    "pycharm": {
     "name": "#%% md\n"
    }
   }
  },
  {
   "cell_type": "markdown",
   "source": [
    "# Comparing Measures Against a Goal\n",
    "Measures often have relationships to each other and require comparison within a view. What if you wanted to compare your sales\n",
    "to a quota in the same space? Build a bar-in-bar char to layer bars and show actual sales results against a sales quota.\n",
    "Do you need to show staged progress toward a goal? Build a bullet graph and use reference lines and distribution bands to track\n",
    "the progress of student enrollment toward maximum\n",
    "\n",
    "## Building Bar-in-Bar Charts\n",
    "Compare two measures as overlapping bars\n",
    "\n",
    "## Building Bullet Graphs\n",
    "Show stages of progress toward a goal\n",
    "\n"
   ],
   "metadata": {
    "collapsed": false,
    "pycharm": {
     "name": "#%% md\n"
    }
   }
  },
  {
   "cell_type": "markdown",
   "source": [
    "# Showing Statistics and Forecasting: Use the Analytics Pane and Trend Lines\n",
    "Make your visualizations more meaningful by adding trend lines or forecasting! Learn how to add trend lines and what they might mean for your\n",
    "data. Use forecasting to estimate future data trends and help your audience make better decisions.\n",
    "\n",
    "## Adding Trend Lines in the View\n",
    "Use trend lines to answer questions about correlations\n",
    "\n",
    "## Generating a Forecast in the View\n",
    "Use forecasting to estimate data trends\n",
    "\n",
    "\n",
    "\n"
   ],
   "metadata": {
    "collapsed": false,
    "pycharm": {
     "name": "#%% md\n"
    }
   }
  },
  {
   "cell_type": "markdown",
   "source": [
    "# Advanced Dashboards: Using Design Techniques and Filter Actions\n",
    "You've learnt how to build some amazing visualizations. Now, gain techniques for bringing them together in a crisp, well-targeted\n",
    "dashboards. Use careful planning and best practices in design to ensure your dashboards usability and appeal. Add interactivity\n",
    "with a custom filter that works across two data sources, and link to another dashboard\n",
    "\n",
    "## Planning for a Successful Dashboard\n",
    "Define, plan, design and test to ensure a great result\n",
    "\n",
    "* Performance check of the dashboards can be performed from Help Menu\n",
    "\n",
    "**Creating a successful dashboard**\n",
    "1. Determine purpose + audience\n",
    "2. Plan the dashboard\n",
    "3. Build using design best practices\n",
    "4. Test it (check the performance in Help Menu and see what's causing the lag)\n",
    "\n",
    "## Using Design Best Practices\n",
    "Add polish and clarity with instructions, tooltips, effective colors, and more\n",
    "\n",
    "1. Instructions,\n",
    "2. Tooltips\n",
    "3. Color\n",
    "4. Arrangement\n",
    "5. Fonts\n",
    "\n",
    "## Using Advanced Filter Actions\n",
    "Filter across two data sources and add navigation using filter actions\n",
    "\n"
   ],
   "metadata": {
    "collapsed": false,
    "pycharm": {
     "name": "#%% md\n"
    }
   }
  },
  {
   "cell_type": "markdown",
   "source": [
    "# Telling Stories with Data\n",
    "You have a great data story to tell! Lear how to use stories in Tableau Desktop to guide people through an insight or discovery\n",
    "you need to share. Learn how to add and sequence views, format the appearance of the story and garnish the experience with\n",
    "annotations and descriptions.\n",
    "\n",
    "## Introduction to Tableau Stories\n",
    "Capture insights and share them as sequential presentations.\n",
    "\n",
    "## Creating a Data Story\n",
    "Weaving a series of worksheets and dashboards into a compelling story\n",
    "\n",
    "## Formatting a Story\n",
    "See how formatting makes data stories pop!\n",
    "\n"
   ],
   "metadata": {
    "collapsed": false,
    "pycharm": {
     "name": "#%% md\n"
    }
   }
  }
 ],
 "metadata": {
  "kernelspec": {
   "display_name": "Python 3",
   "language": "python",
   "name": "python3"
  },
  "language_info": {
   "codemirror_mode": {
    "name": "ipython",
    "version": 2
   },
   "file_extension": ".py",
   "mimetype": "text/x-python",
   "name": "python",
   "nbconvert_exporter": "python",
   "pygments_lexer": "ipython2",
   "version": "2.7.6"
  }
 },
 "nbformat": 4,
 "nbformat_minor": 0
}