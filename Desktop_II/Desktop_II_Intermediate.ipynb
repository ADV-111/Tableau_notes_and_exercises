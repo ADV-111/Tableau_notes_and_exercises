{
 "cells": [
  {
   "cell_type": "markdown",
   "metadata": {
    "collapsed": true,
    "pycharm": {
     "name": "#%% md\n"
    }
   },
   "source": [
    "# Desktop II Description and Learning Objectives\n",
    "**Audience**\n",
    "\n",
    "This course is designed to provide you with the skills required to become a Tableau Power User.\n",
    "It's made for the proffesional who has solid working experience with Tableau Desktop and want to take it ot the next level.\n",
    "You should have a deep understanding of all the fundamental concepts of building worksheets and dashboards, but may scratch\n",
    "your head when working with more complex issues.\n",
    "\n",
    "**Duration**\n",
    "\n",
    "This course is comprised of over 50 lessons. We recommend that students plan to spend 10+ hours completing this course.\n",
    "The actual amount of time needed will vary depending on prior experience and background.\n",
    "\n",
    "**Prerequisites**\n",
    "\n",
    "Desktop I and / or equivalent experience\n",
    "\n",
    "**Learning Objectives**\n",
    "\n",
    "At the end of this course, you will be able to:\n",
    "* Build advanced chart types and visualizations\n",
    "* Build complex calculations to manipulate your data\n",
    "* Use statistical techniques to analyze your data\n",
    "* Use parameters and input controls to give users control over specific values\n",
    "* Implement advanced geographic mapping techniques and use custom images and geocoding\n",
    "to build spatial visualizations of non-geographic data.\n",
    "* Combine data from multiple tables using joins\n",
    "* Combine data sources using data blending.\n",
    "* Use extracts to improve performance\n",
    "* Build better dashboards using techniques for guided analytics, interactive dashboard design,\n",
    "and visual best practices\n",
    "\n",
    "\n"
   ]
  },
  {
   "cell_type": "markdown",
   "source": [
    "# Working with a Data Extract\n",
    "A live data connection may not be an option. Maybe you're travelling or the connection is slowing down workbook\n",
    "performance. Discover the power of data extracts. Use a data extract to improve workbook speed, streamline data in the view\n",
    "and add portability to a workbook. Learn to create an extract, select options, switch between extracted and live data,\n",
    "and update an extract\n",
    "\n",
    "## Deciding When to Use an Extract\n",
    "Explore your choices when using an extract\n",
    "\n",
    "## Extracting Data\n",
    "Create, edit and update a data extract\n",
    "\n",
    "## Create a Data Extract - exercise"
   ],
   "metadata": {
    "collapsed": false,
    "pycharm": {
     "name": "#%% md\n"
    }
   }
  },
  {
   "cell_type": "markdown",
   "source": [
    "# Joining Tables Using Calculations - NEW WAY OF DOING THAT IN VER. 2020.2\n",
    "What if your required data sits in more than one table in your data source? Bring all your desired data into a view by joining tables from your data source. Learn how to join tables, what join types are available, and how each type affects the data.\n",
    "\n",
    "## Using Table Joins\n",
    "Create a data source using multiple tables of data\n",
    "\n",
    "## How to Join Tables\n",
    "Use different join types and see their effect"
   ],
   "metadata": {
    "collapsed": false,
    "pycharm": {
     "name": "#%% md\n"
    }
   }
  },
  {
   "cell_type": "markdown",
   "source": [
    "# Joining Tables Using Calculations\n",
    "Sometimes you need to join tables to build a data source, but there isn't a field that matches in both tables\n",
    "to build the join from. With join calculations, you can calculate a valeu that can make the join.\n",
    "Whether you are adjusting the text in a string, changing the data type or just making sure yor have\n",
    "a perfect match between fields, writing join calculations gives you more flexibility to structure your data source\n",
    "\n",
    "## Writing Join Calculations\n",
    "Create a calculation that you can use to join data tables\n",
    "\n"
   ],
   "metadata": {
    "collapsed": false,
    "pycharm": {
     "name": "#%% md\n"
    }
   }
  },
  {
   "cell_type": "markdown",
   "source": [
    "# Blending Multiple Data Sources\n",
    "Frequently, the data you need isn't stored in a single data source. Yet, you still need to create an analysis\n",
    "from these separate sources. Expand your data analysis by using multiple data sources in a single view and blending\n",
    "them together on a common dimension. Discover how this differs from joining tables. Build blended views and compare results\n",
    "depending on which data source is primary.\n",
    "\n",
    "## Using Data from Multiple Sources\n",
    "Discover data blending and how it differs from table joins\n",
    "\n",
    "## Blending Data in a View\n",
    "Blend primary and secondary data sources\n",
    "\n"
   ],
   "metadata": {
    "collapsed": false,
    "pycharm": {
     "name": "#%% md\n"
    }
   }
  },
  {
   "cell_type": "markdown",
   "source": [
    "# Blending Data without a Common Field\n",
    "What do you do when you want to blend two data sources and they have a field in common, but\n",
    "the dimensions don't use the same naming convention? Create a custom relationship between the data\n",
    "sources. Learn how to edit aliases within the data sources, and use calculations to help you\n",
    "handle nulls and asterisks in data results\n",
    "\n",
    "## Blending with Custom Relationships and Calculations\n",
    "Blend data sources without a common field and use blended fields in calculations\n"
   ],
   "metadata": {
    "collapsed": false,
    "pycharm": {
     "name": "#%% md\n"
    }
   }
  },
  {
   "cell_type": "markdown",
   "source": [
    "# Using Unions to Combine Data\n",
    "Unions combine your data by lengthening the tables, which allows you to build longer, more robust data sources.\n",
    "Create and edit data unions to combine tables with the same structure, like weather tables for each month, or sales data for each\n",
    "branch. Even if the field titles don't match perfectly, you can correct mismatched fields. Unions provide another way\n",
    "to customize your data source before you start analysis.\n",
    "\n",
    "## Appending Row Data with Unions\n",
    "Explore unions and their structures\n",
    "\n",
    "## Create a Union Manually\n",
    "Union multiple data sheets of an Excel file"
   ],
   "metadata": {
    "collapsed": false,
    "pycharm": {
     "name": "#%% md\n"
    }
   }
  },
  {
   "cell_type": "markdown",
   "source": [
    "# Filtering Across Data Sources\n",
    "You have a dashboard that uses data from more than one data source. How can you apply a filter that\n",
    "will work for all views in the dashboard? See how to verify or create a relationship between the\n",
    "data sources. Then lear a couple of ways to create a filter that applies to the related data\n",
    "\n",
    "## Filtering Across Data Sources\n",
    "Apply a filter to all related data sources in a dashboard"
   ],
   "metadata": {
    "collapsed": false,
    "pycharm": {
     "name": "#%% md\n"
    }
   }
  },
  {
   "cell_type": "markdown",
   "source": [
    "# Using Sets to Highlight Data\n",
    "Sets allow you to examine activity in your data that may not be obvious. Use sets to highlight parts of your data for more focus.\n",
    "Create a set from the data pane or by selecting marks in the view. Use a set as a filter or combine sets and re-use sets as needed\n",
    "\n",
    "## Creating Sets - VERY POWERFUL\n",
    "Create top, combined and in/out sets"
   ],
   "metadata": {
    "collapsed": false,
    "pycharm": {
     "name": "#%% md\n"
    }
   }
  },
  {
   "cell_type": "markdown",
   "source": [
    "# Using Context Filters to Limit Scope\n",
    "Use a context filter when you want to specify a context for another filter in your view, such as a Top N filter. For example,\n",
    "you could use Region as a context filter to see the top-10 selling product per region rather than across\n",
    "a whole data source. Context filters can help improve performance, too by limiting the scope of a query to\n",
    "the specified context.\n",
    "\n",
    "## Adding a Context Filter\n",
    "Set the filtering context for additional filters in the view\n"
   ],
   "metadata": {
    "collapsed": false,
    "pycharm": {
     "name": "#%% md\n"
    }
   }
  },
  {
   "cell_type": "markdown",
   "source": [
    "# Using Split and Custom Split\n",
    "Do you have single dimensions of data that you'd like to analyze as multiple dimensions instead? Control your data in Tableau\n",
    "by using splits to alter dimensions fields. For example break up a customer name into first and last name fields\n",
    "then use them in your view.\n",
    "\n",
    "## Splitting Data Fields\n",
    "Learn how to split dimension fields using Split and Custom Split\n"
   ],
   "metadata": {
    "collapsed": false,
    "pycharm": {
     "name": "#%% md\n"
    }
   }
  }
 ],
 "metadata": {
  "kernelspec": {
   "display_name": "Python 3",
   "language": "python",
   "name": "python3"
  },
  "language_info": {
   "codemirror_mode": {
    "name": "ipython",
    "version": 2
   },
   "file_extension": ".py",
   "mimetype": "text/x-python",
   "name": "python",
   "nbconvert_exporter": "python",
   "pygments_lexer": "ipython2",
   "version": "2.7.6"
  }
 },
 "nbformat": 4,
 "nbformat_minor": 0
}