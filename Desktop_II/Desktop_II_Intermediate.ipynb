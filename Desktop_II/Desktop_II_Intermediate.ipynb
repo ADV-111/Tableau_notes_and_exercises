{
 "cells": [
  {
   "cell_type": "markdown",
   "metadata": {
    "collapsed": true,
    "pycharm": {
     "name": "#%% md\n"
    }
   },
   "source": [
    "# Desktop II Description and Learning Objectives\n",
    "**Audience**\n",
    "\n",
    "This course is designed to provide you with the skills required to become a Tableau Power User.\n",
    "It's made for the proffesional who has solid working experience with Tableau Desktop and want to take it ot the next level.\n",
    "You should have a deep understanding of all the fundamental concepts of building worksheets and dashboards, but may scratch\n",
    "your head when working with more complex issues.\n",
    "\n",
    "**Duration**\n",
    "\n",
    "This course is comprised of over 50 lessons. We recommend that students plan to spend 10+ hours completing this course.\n",
    "The actual amount of time needed will vary depending on prior experience and background.\n",
    "\n",
    "**Prerequisites**\n",
    "\n",
    "Desktop I and / or equivalent experience\n",
    "\n",
    "**Learning Objectives**\n",
    "\n",
    "At the end of this course, you will be able to:\n",
    "* Build advanced chart types and visualizations\n",
    "* Build complex calculations to manipulate your data\n",
    "* Use statistical techniques to analyze your data\n",
    "* Use parameters and input controls to give users control over specific values\n",
    "* Implement advanced geographic mapping techniques and use custom images and geocoding\n",
    "to build spatial visualizations of non-geographic data.\n",
    "* Combine data from multiple tables using joins\n",
    "* Combine data sources using data blending.\n",
    "* Use extracts to improve performance\n",
    "* Build better dashboards using techniques for guided analytics, interactive dashboard design,\n",
    "and visual best practices\n",
    "\n",
    "\n"
   ]
  },
  {
   "cell_type": "markdown",
   "source": [
    "# Working with a Data Extract\n",
    "A live data connection may not be an option. Maybe you're travelling or the connection is slowing down workbook\n",
    "performance. Discover the power of data extracts. Use a data extract to improve workbook speed, streamline data in the view\n",
    "and add portability to a workbook. Learn to create an extract, select options, switch between extracted and live data,\n",
    "and update an extract\n",
    "\n",
    "## Deciding When to Use an Extract\n",
    "Explore your choices when using an extract\n",
    "\n",
    "## Extracting Data\n",
    "Create, edit and update a data extract\n",
    "\n",
    "## Create a Data Extract - exercise\n"
   ],
   "metadata": {
    "collapsed": false,
    "pycharm": {
     "name": "#%% md\n"
    }
   }
  }
 ],
 "metadata": {
  "kernelspec": {
   "display_name": "Python 3",
   "language": "python",
   "name": "python3"
  },
  "language_info": {
   "codemirror_mode": {
    "name": "ipython",
    "version": 2
   },
   "file_extension": ".py",
   "mimetype": "text/x-python",
   "name": "python",
   "nbconvert_exporter": "python",
   "pygments_lexer": "ipython2",
   "version": "2.7.6"
  }
 },
 "nbformat": 4,
 "nbformat_minor": 0
}